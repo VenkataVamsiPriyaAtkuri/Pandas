{
 "cells": [
  {
   "cell_type": "code",
   "execution_count": 1,
   "id": "8c7d883b",
   "metadata": {},
   "outputs": [],
   "source": [
    "import pandas as pd\n",
    "import numpy as np"
   ]
  },
  {
   "cell_type": "code",
   "execution_count": 2,
   "id": "f9e33963",
   "metadata": {},
   "outputs": [],
   "source": [
    "data=pd.read_csv(r\"C:\\Users\\priya\\Downloads\\imdb_anime.csv\")"
   ]
  },
  {
   "cell_type": "code",
   "execution_count": 3,
   "id": "b96caf85",
   "metadata": {},
   "outputs": [
    {
     "name": "stdout",
     "output_type": "stream",
     "text": [
      "<class 'pandas.core.frame.DataFrame'>\n",
      "RangeIndex: 45717 entries, 0 to 45716\n",
      "Data columns (total 13 columns):\n",
      " #   Column           Non-Null Count  Dtype \n",
      "---  ------           --------------  ----- \n",
      " 0   Title            45717 non-null  object\n",
      " 1   Genre            45717 non-null  object\n",
      " 2   User Rating      25009 non-null  object\n",
      " 3   Number of Votes  25009 non-null  object\n",
      " 4   Runtime          32549 non-null  object\n",
      " 5   Year             45591 non-null  object\n",
      " 6   Summary          23547 non-null  object\n",
      " 7   Stars            13676 non-null  object\n",
      " 8   Certificate      28694 non-null  object\n",
      " 9   Metascore        341 non-null    object\n",
      " 10  Gross            25009 non-null  object\n",
      " 11  Episode          45717 non-null  object\n",
      " 12  Episode Title    34910 non-null  object\n",
      "dtypes: object(13)\n",
      "memory usage: 4.5+ MB\n"
     ]
    }
   ],
   "source": [
    "data.info()"
   ]
  },
  {
   "cell_type": "code",
   "execution_count": 4,
   "id": "64594168",
   "metadata": {},
   "outputs": [],
   "source": [
    "data[\"Year\"]=data[\"Year\"].str.replace(\"(\",\"\",regex=False)\n",
    "data['Year']=data['Year'].str.replace(')','',regex=False)\n",
    "data['Year']=data['Year'].str.replace('-','',regex=False)"
   ]
  },
  {
   "cell_type": "code",
   "execution_count": 5,
   "id": "967a7711",
   "metadata": {},
   "outputs": [],
   "source": [
    "# filling NaN values and converting data types\n",
    "data.fillna({\"Title\":\"no title\",\"Genre\":\"no genre\",\"User Rating\":0,\"Number of Votes\":0,\"Runtime\":0,\"Summary\":\"no summary\",\"Stars\":\"no stars\",\"Certificate\":\"no certificate\",\"Metascore\":0,\"Gross\":10,\"Episode\":0,\"Episode Title\":\"no\"},inplace=True)\n",
    "data.replace({\"User Rating\":{\"User Rating\":0},\"Number of Votes\":{\"Number of Votes\":0},\"Runtime\":{\"Runtime\":\"10\"},\"Metascore\":{\"Metascore\":0},\"Gross\":{\"Gross\":10},\"Episode\":{\"Episode\":0}},inplace=True)\n",
    "data=data.astype({\"User Rating\":float,\"Metascore\":int,\"Gross\":int,\"Episode\":int})"
   ]
  },
  {
   "cell_type": "code",
   "execution_count": 6,
   "id": "94c0009d",
   "metadata": {},
   "outputs": [
    {
     "data": {
      "text/html": [
       "<div>\n",
       "<style scoped>\n",
       "    .dataframe tbody tr th:only-of-type {\n",
       "        vertical-align: middle;\n",
       "    }\n",
       "\n",
       "    .dataframe tbody tr th {\n",
       "        vertical-align: top;\n",
       "    }\n",
       "\n",
       "    .dataframe thead th {\n",
       "        text-align: right;\n",
       "    }\n",
       "</style>\n",
       "<table border=\"1\" class=\"dataframe\">\n",
       "  <thead>\n",
       "    <tr style=\"text-align: right;\">\n",
       "      <th></th>\n",
       "      <th>User Rating</th>\n",
       "      <th>Metascore</th>\n",
       "      <th>Gross</th>\n",
       "      <th>Episode</th>\n",
       "    </tr>\n",
       "  </thead>\n",
       "  <tbody>\n",
       "    <tr>\n",
       "      <th>count</th>\n",
       "      <td>45717.000000</td>\n",
       "      <td>45717.000000</td>\n",
       "      <td>4.571700e+04</td>\n",
       "      <td>45717.000000</td>\n",
       "    </tr>\n",
       "    <tr>\n",
       "      <th>mean</th>\n",
       "      <td>3.948658</td>\n",
       "      <td>0.499595</td>\n",
       "      <td>1.636722e+03</td>\n",
       "      <td>0.763589</td>\n",
       "    </tr>\n",
       "    <tr>\n",
       "      <th>std</th>\n",
       "      <td>3.669057</td>\n",
       "      <td>5.920916</td>\n",
       "      <td>2.347899e+04</td>\n",
       "      <td>0.424882</td>\n",
       "    </tr>\n",
       "    <tr>\n",
       "      <th>min</th>\n",
       "      <td>0.000000</td>\n",
       "      <td>0.000000</td>\n",
       "      <td>5.000000e+00</td>\n",
       "      <td>0.000000</td>\n",
       "    </tr>\n",
       "    <tr>\n",
       "      <th>25%</th>\n",
       "      <td>0.000000</td>\n",
       "      <td>0.000000</td>\n",
       "      <td>1.000000e+01</td>\n",
       "      <td>1.000000</td>\n",
       "    </tr>\n",
       "    <tr>\n",
       "      <th>50%</th>\n",
       "      <td>5.900000</td>\n",
       "      <td>0.000000</td>\n",
       "      <td>1.000000e+01</td>\n",
       "      <td>1.000000</td>\n",
       "    </tr>\n",
       "    <tr>\n",
       "      <th>75%</th>\n",
       "      <td>7.400000</td>\n",
       "      <td>0.000000</td>\n",
       "      <td>1.040000e+02</td>\n",
       "      <td>1.000000</td>\n",
       "    </tr>\n",
       "    <tr>\n",
       "      <th>max</th>\n",
       "      <td>9.900000</td>\n",
       "      <td>96.000000</td>\n",
       "      <td>1.162284e+06</td>\n",
       "      <td>1.000000</td>\n",
       "    </tr>\n",
       "  </tbody>\n",
       "</table>\n",
       "</div>"
      ],
      "text/plain": [
       "        User Rating     Metascore         Gross       Episode\n",
       "count  45717.000000  45717.000000  4.571700e+04  45717.000000\n",
       "mean       3.948658      0.499595  1.636722e+03      0.763589\n",
       "std        3.669057      5.920916  2.347899e+04      0.424882\n",
       "min        0.000000      0.000000  5.000000e+00      0.000000\n",
       "25%        0.000000      0.000000  1.000000e+01      1.000000\n",
       "50%        5.900000      0.000000  1.000000e+01      1.000000\n",
       "75%        7.400000      0.000000  1.040000e+02      1.000000\n",
       "max        9.900000     96.000000  1.162284e+06      1.000000"
      ]
     },
     "execution_count": 6,
     "metadata": {},
     "output_type": "execute_result"
    }
   ],
   "source": [
    "data.describe()"
   ]
  },
  {
   "cell_type": "markdown",
   "id": "00df577a",
   "metadata": {},
   "source": [
    "### 1.How many unique anime are there? "
   ]
  },
  {
   "cell_type": "code",
   "execution_count": 7,
   "id": "205e2191",
   "metadata": {},
   "outputs": [
    {
     "name": "stdout",
     "output_type": "stream",
     "text": [
      "No.of unique anime are: 9851\n"
     ]
    }
   ],
   "source": [
    "print('No.of unique anime are:',len(data['Title'].unique()))"
   ]
  },
  {
   "cell_type": "markdown",
   "id": "b9388b93",
   "metadata": {},
   "source": [
    "### 2.Which anime has the highest rating?"
   ]
  },
  {
   "cell_type": "code",
   "execution_count": 8,
   "id": "a62f1117",
   "metadata": {},
   "outputs": [],
   "source": [
    "data.fillna({'User Rating':0},inplace=True)"
   ]
  },
  {
   "cell_type": "code",
   "execution_count": 9,
   "id": "a1296d7b",
   "metadata": {},
   "outputs": [],
   "source": [
    "data['User Rating'].replace({'User Rating':0.0},inplace=True)"
   ]
  },
  {
   "cell_type": "code",
   "execution_count": 10,
   "id": "530460ea",
   "metadata": {},
   "outputs": [
    {
     "data": {
      "text/html": [
       "<div>\n",
       "<style scoped>\n",
       "    .dataframe tbody tr th:only-of-type {\n",
       "        vertical-align: middle;\n",
       "    }\n",
       "\n",
       "    .dataframe tbody tr th {\n",
       "        vertical-align: top;\n",
       "    }\n",
       "\n",
       "    .dataframe thead th {\n",
       "        text-align: right;\n",
       "    }\n",
       "</style>\n",
       "<table border=\"1\" class=\"dataframe\">\n",
       "  <thead>\n",
       "    <tr style=\"text-align: right;\">\n",
       "      <th></th>\n",
       "      <th>Title</th>\n",
       "      <th>Genre</th>\n",
       "      <th>User Rating</th>\n",
       "      <th>Number of Votes</th>\n",
       "      <th>Runtime</th>\n",
       "      <th>Year</th>\n",
       "      <th>Summary</th>\n",
       "      <th>Stars</th>\n",
       "      <th>Certificate</th>\n",
       "      <th>Metascore</th>\n",
       "      <th>Gross</th>\n",
       "      <th>Episode</th>\n",
       "      <th>Episode Title</th>\n",
       "    </tr>\n",
       "  </thead>\n",
       "  <tbody>\n",
       "    <tr>\n",
       "      <th>0</th>\n",
       "      <td>One Piece</td>\n",
       "      <td>Animation, Action, Adventure</td>\n",
       "      <td>8.9</td>\n",
       "      <td>187,689</td>\n",
       "      <td>24 min</td>\n",
       "      <td>1999–</td>\n",
       "      <td>Follows the adventures of Monkey D. Luffy and ...</td>\n",
       "      <td>Mayumi Tanaka,Laurent Vernin,Akemi Okamura,Ton...</td>\n",
       "      <td>TV-14</td>\n",
       "      <td>0</td>\n",
       "      <td>187689</td>\n",
       "      <td>0</td>\n",
       "      <td>no</td>\n",
       "    </tr>\n",
       "    <tr>\n",
       "      <th>1</th>\n",
       "      <td>Teenage Mutant Ninja Turtles: Mutant Mayhem</td>\n",
       "      <td>Animation, Action, Adventure</td>\n",
       "      <td>7.4</td>\n",
       "      <td>28,895</td>\n",
       "      <td>99 min</td>\n",
       "      <td>2023</td>\n",
       "      <td>The film follows the Turtle brothers as they w...</td>\n",
       "      <td>no stars</td>\n",
       "      <td>PG</td>\n",
       "      <td>74</td>\n",
       "      <td>28895</td>\n",
       "      <td>0</td>\n",
       "      <td>no</td>\n",
       "    </tr>\n",
       "    <tr>\n",
       "      <th>2</th>\n",
       "      <td>The Super Mario Bros. Movie</td>\n",
       "      <td>Animation, Adventure, Comedy</td>\n",
       "      <td>7.1</td>\n",
       "      <td>189,108</td>\n",
       "      <td>92 min</td>\n",
       "      <td>2023</td>\n",
       "      <td>A plumber named Mario travels through an under...</td>\n",
       "      <td>no stars</td>\n",
       "      <td>PG</td>\n",
       "      <td>46</td>\n",
       "      <td>189108</td>\n",
       "      <td>0</td>\n",
       "      <td>no</td>\n",
       "    </tr>\n",
       "    <tr>\n",
       "      <th>3</th>\n",
       "      <td>Attack on Titan</td>\n",
       "      <td>Animation, Action, Adventure</td>\n",
       "      <td>9.1</td>\n",
       "      <td>434,457</td>\n",
       "      <td>24 min</td>\n",
       "      <td>2013–2023</td>\n",
       "      <td>After his hometown is destroyed and his mother...</td>\n",
       "      <td>Josh Grelle,Bryce Papenbrook,Yûki Kaji,Yui Ish...</td>\n",
       "      <td>TV-MA</td>\n",
       "      <td>0</td>\n",
       "      <td>434457</td>\n",
       "      <td>0</td>\n",
       "      <td>no</td>\n",
       "    </tr>\n",
       "    <tr>\n",
       "      <th>4</th>\n",
       "      <td>Jujutsu Kaisen</td>\n",
       "      <td>Animation, Action, Adventure</td>\n",
       "      <td>8.5</td>\n",
       "      <td>82,909</td>\n",
       "      <td>24 min</td>\n",
       "      <td>2020–</td>\n",
       "      <td>A boy swallows a cursed talisman - the finger ...</td>\n",
       "      <td>Junya Enoki,Yûichi Nakamura,Adam McArthur,Yuma...</td>\n",
       "      <td>TV-MA</td>\n",
       "      <td>0</td>\n",
       "      <td>82909</td>\n",
       "      <td>0</td>\n",
       "      <td>no</td>\n",
       "    </tr>\n",
       "    <tr>\n",
       "      <th>...</th>\n",
       "      <td>...</td>\n",
       "      <td>...</td>\n",
       "      <td>...</td>\n",
       "      <td>...</td>\n",
       "      <td>...</td>\n",
       "      <td>...</td>\n",
       "      <td>...</td>\n",
       "      <td>...</td>\n",
       "      <td>...</td>\n",
       "      <td>...</td>\n",
       "      <td>...</td>\n",
       "      <td>...</td>\n",
       "      <td>...</td>\n",
       "    </tr>\n",
       "    <tr>\n",
       "      <th>45712</th>\n",
       "      <td>Demon Slayer: Kimetsu no Yaiba</td>\n",
       "      <td>Animation, Action, Adventure</td>\n",
       "      <td>7.3</td>\n",
       "      <td>3,432</td>\n",
       "      <td>24 min</td>\n",
       "      <td>2019–</td>\n",
       "      <td>Tanjiro heads to his next location southeast; ...</td>\n",
       "      <td>no stars</td>\n",
       "      <td>TV-14</td>\n",
       "      <td>0</td>\n",
       "      <td>3432</td>\n",
       "      <td>1</td>\n",
       "      <td>Tsuzumi Mansion</td>\n",
       "    </tr>\n",
       "    <tr>\n",
       "      <th>45713</th>\n",
       "      <td>Demon Slayer: Kimetsu no Yaiba</td>\n",
       "      <td>Animation, Action, Adventure</td>\n",
       "      <td>7.9</td>\n",
       "      <td>3,309</td>\n",
       "      <td>24 min</td>\n",
       "      <td>2019–</td>\n",
       "      <td>Tanjiro gets separated from Zenitsu when he en...</td>\n",
       "      <td>no stars</td>\n",
       "      <td>TV-MA</td>\n",
       "      <td>0</td>\n",
       "      <td>3309</td>\n",
       "      <td>1</td>\n",
       "      <td>The Boar Bares Its Fangs, Zenitsu Sleeps</td>\n",
       "    </tr>\n",
       "    <tr>\n",
       "      <th>45714</th>\n",
       "      <td>One Piece</td>\n",
       "      <td>Animation, Action, Adventure</td>\n",
       "      <td>9.4</td>\n",
       "      <td>2,743</td>\n",
       "      <td>0</td>\n",
       "      <td>1999–</td>\n",
       "      <td>Carrot tells Sanji the news about Pedro. Germa...</td>\n",
       "      <td>Mayumi Tanaka,Tom Henry,Masako Katsuki,Mami Ko...</td>\n",
       "      <td>TV-14</td>\n",
       "      <td>0</td>\n",
       "      <td>2743</td>\n",
       "      <td>1</td>\n",
       "      <td>Time for Farewell! Pudding's One Last Request!</td>\n",
       "    </tr>\n",
       "    <tr>\n",
       "      <th>45715</th>\n",
       "      <td>Marmalade Boy</td>\n",
       "      <td>Animation, Comedy, Drama</td>\n",
       "      <td>0.0</td>\n",
       "      <td>0</td>\n",
       "      <td>24 min</td>\n",
       "      <td>1994–2005</td>\n",
       "      <td>no summary</td>\n",
       "      <td>Ogie Banks,Deborah Sale Butler,John DeMita,Ric...</td>\n",
       "      <td>Not Rated</td>\n",
       "      <td>0</td>\n",
       "      <td>10</td>\n",
       "      <td>1</td>\n",
       "      <td>Hijiri naru yoru (ivu nanoni hitori bocchi...)</td>\n",
       "    </tr>\n",
       "    <tr>\n",
       "      <th>45716</th>\n",
       "      <td>Cinderella Nine</td>\n",
       "      <td>Animation, Drama, Sport</td>\n",
       "      <td>6.0</td>\n",
       "      <td>6</td>\n",
       "      <td>24 min</td>\n",
       "      <td>2019–</td>\n",
       "      <td>On her very first day at Satogahama Municipal ...</td>\n",
       "      <td>no stars</td>\n",
       "      <td>no certificate</td>\n",
       "      <td>0</td>\n",
       "      <td>6</td>\n",
       "      <td>1</td>\n",
       "      <td>Play Ball!</td>\n",
       "    </tr>\n",
       "  </tbody>\n",
       "</table>\n",
       "<p>45717 rows × 13 columns</p>\n",
       "</div>"
      ],
      "text/plain": [
       "                                             Title  \\\n",
       "0                                        One Piece   \n",
       "1      Teenage Mutant Ninja Turtles: Mutant Mayhem   \n",
       "2                      The Super Mario Bros. Movie   \n",
       "3                                  Attack on Titan   \n",
       "4                                   Jujutsu Kaisen   \n",
       "...                                            ...   \n",
       "45712               Demon Slayer: Kimetsu no Yaiba   \n",
       "45713               Demon Slayer: Kimetsu no Yaiba   \n",
       "45714                                    One Piece   \n",
       "45715                                Marmalade Boy   \n",
       "45716                              Cinderella Nine   \n",
       "\n",
       "                              Genre  User Rating Number of Votes Runtime  \\\n",
       "0      Animation, Action, Adventure          8.9         187,689  24 min   \n",
       "1      Animation, Action, Adventure          7.4          28,895  99 min   \n",
       "2      Animation, Adventure, Comedy          7.1         189,108  92 min   \n",
       "3      Animation, Action, Adventure          9.1         434,457  24 min   \n",
       "4      Animation, Action, Adventure          8.5          82,909  24 min   \n",
       "...                             ...          ...             ...     ...   \n",
       "45712  Animation, Action, Adventure          7.3           3,432  24 min   \n",
       "45713  Animation, Action, Adventure          7.9           3,309  24 min   \n",
       "45714  Animation, Action, Adventure          9.4           2,743       0   \n",
       "45715      Animation, Comedy, Drama          0.0               0  24 min   \n",
       "45716       Animation, Drama, Sport          6.0               6  24 min   \n",
       "\n",
       "            Year                                            Summary  \\\n",
       "0         1999–   Follows the adventures of Monkey D. Luffy and ...   \n",
       "1           2023  The film follows the Turtle brothers as they w...   \n",
       "2           2023  A plumber named Mario travels through an under...   \n",
       "3      2013–2023  After his hometown is destroyed and his mother...   \n",
       "4         2020–   A boy swallows a cursed talisman - the finger ...   \n",
       "...          ...                                                ...   \n",
       "45712     2019–   Tanjiro heads to his next location southeast; ...   \n",
       "45713     2019–   Tanjiro gets separated from Zenitsu when he en...   \n",
       "45714     1999–   Carrot tells Sanji the news about Pedro. Germa...   \n",
       "45715  1994–2005                                         no summary   \n",
       "45716     2019–   On her very first day at Satogahama Municipal ...   \n",
       "\n",
       "                                                   Stars     Certificate  \\\n",
       "0      Mayumi Tanaka,Laurent Vernin,Akemi Okamura,Ton...           TV-14   \n",
       "1                                               no stars              PG   \n",
       "2                                               no stars              PG   \n",
       "3      Josh Grelle,Bryce Papenbrook,Yûki Kaji,Yui Ish...           TV-MA   \n",
       "4      Junya Enoki,Yûichi Nakamura,Adam McArthur,Yuma...           TV-MA   \n",
       "...                                                  ...             ...   \n",
       "45712                                           no stars           TV-14   \n",
       "45713                                           no stars           TV-MA   \n",
       "45714  Mayumi Tanaka,Tom Henry,Masako Katsuki,Mami Ko...           TV-14   \n",
       "45715  Ogie Banks,Deborah Sale Butler,John DeMita,Ric...       Not Rated   \n",
       "45716                                           no stars  no certificate   \n",
       "\n",
       "       Metascore   Gross  Episode  \\\n",
       "0              0  187689        0   \n",
       "1             74   28895        0   \n",
       "2             46  189108        0   \n",
       "3              0  434457        0   \n",
       "4              0   82909        0   \n",
       "...          ...     ...      ...   \n",
       "45712          0    3432        1   \n",
       "45713          0    3309        1   \n",
       "45714          0    2743        1   \n",
       "45715          0      10        1   \n",
       "45716          0       6        1   \n",
       "\n",
       "                                        Episode Title  \n",
       "0                                                  no  \n",
       "1                                                  no  \n",
       "2                                                  no  \n",
       "3                                                  no  \n",
       "4                                                  no  \n",
       "...                                               ...  \n",
       "45712                                 Tsuzumi Mansion  \n",
       "45713        The Boar Bares Its Fangs, Zenitsu Sleeps  \n",
       "45714  Time for Farewell! Pudding's One Last Request!  \n",
       "45715  Hijiri naru yoru (ivu nanoni hitori bocchi...)  \n",
       "45716                                      Play Ball!  \n",
       "\n",
       "[45717 rows x 13 columns]"
      ]
     },
     "execution_count": 10,
     "metadata": {},
     "output_type": "execute_result"
    }
   ],
   "source": [
    "data.astype({'User Rating':np.float32})"
   ]
  },
  {
   "cell_type": "code",
   "execution_count": 11,
   "id": "f636d039",
   "metadata": {},
   "outputs": [
    {
     "name": "stdout",
     "output_type": "stream",
     "text": [
      "Highest rated anime are : 6\n"
     ]
    },
    {
     "data": {
      "text/html": [
       "<div>\n",
       "<style scoped>\n",
       "    .dataframe tbody tr th:only-of-type {\n",
       "        vertical-align: middle;\n",
       "    }\n",
       "\n",
       "    .dataframe tbody tr th {\n",
       "        vertical-align: top;\n",
       "    }\n",
       "\n",
       "    .dataframe thead th {\n",
       "        text-align: right;\n",
       "    }\n",
       "</style>\n",
       "<table border=\"1\" class=\"dataframe\">\n",
       "  <thead>\n",
       "    <tr style=\"text-align: right;\">\n",
       "      <th></th>\n",
       "      <th>Title</th>\n",
       "      <th>User Rating</th>\n",
       "    </tr>\n",
       "  </thead>\n",
       "  <tbody>\n",
       "    <tr>\n",
       "      <th>13656</th>\n",
       "      <td>Idaten Jump</td>\n",
       "      <td>9.9</td>\n",
       "    </tr>\n",
       "    <tr>\n",
       "      <th>17874</th>\n",
       "      <td>Vinland Saga</td>\n",
       "      <td>9.9</td>\n",
       "    </tr>\n",
       "    <tr>\n",
       "      <th>22753</th>\n",
       "      <td>Attack on Titan</td>\n",
       "      <td>9.9</td>\n",
       "    </tr>\n",
       "    <tr>\n",
       "      <th>34677</th>\n",
       "      <td>Hunter x Hunter</td>\n",
       "      <td>9.9</td>\n",
       "    </tr>\n",
       "    <tr>\n",
       "      <th>39614</th>\n",
       "      <td>Legend of the Galactic Heroes</td>\n",
       "      <td>9.9</td>\n",
       "    </tr>\n",
       "    <tr>\n",
       "      <th>45689</th>\n",
       "      <td>Attack on Titan</td>\n",
       "      <td>9.9</td>\n",
       "    </tr>\n",
       "  </tbody>\n",
       "</table>\n",
       "</div>"
      ],
      "text/plain": [
       "                               Title  User Rating\n",
       "13656                    Idaten Jump          9.9\n",
       "17874                   Vinland Saga          9.9\n",
       "22753                Attack on Titan          9.9\n",
       "34677                Hunter x Hunter          9.9\n",
       "39614  Legend of the Galactic Heroes          9.9\n",
       "45689                Attack on Titan          9.9"
      ]
     },
     "execution_count": 11,
     "metadata": {},
     "output_type": "execute_result"
    }
   ],
   "source": [
    "hr=data.loc[data['User Rating']==data['User Rating'].max(),['Title','User Rating']]\n",
    "print('Highest rated anime are :',len(hr))\n",
    "hr"
   ]
  },
  {
   "cell_type": "markdown",
   "id": "f02f43c1",
   "metadata": {},
   "source": [
    "### 3.What are the animes having the rating between 7.0 and 9.0"
   ]
  },
  {
   "cell_type": "code",
   "execution_count": 12,
   "id": "02ecaba2",
   "metadata": {},
   "outputs": [
    {
     "data": {
      "text/html": [
       "<div>\n",
       "<style scoped>\n",
       "    .dataframe tbody tr th:only-of-type {\n",
       "        vertical-align: middle;\n",
       "    }\n",
       "\n",
       "    .dataframe tbody tr th {\n",
       "        vertical-align: top;\n",
       "    }\n",
       "\n",
       "    .dataframe thead th {\n",
       "        text-align: right;\n",
       "    }\n",
       "</style>\n",
       "<table border=\"1\" class=\"dataframe\">\n",
       "  <thead>\n",
       "    <tr style=\"text-align: right;\">\n",
       "      <th></th>\n",
       "      <th>Title</th>\n",
       "      <th>User Rating</th>\n",
       "    </tr>\n",
       "  </thead>\n",
       "  <tbody>\n",
       "    <tr>\n",
       "      <th>0</th>\n",
       "      <td>One Piece</td>\n",
       "      <td>8.9</td>\n",
       "    </tr>\n",
       "    <tr>\n",
       "      <th>1</th>\n",
       "      <td>Teenage Mutant Ninja Turtles: Mutant Mayhem</td>\n",
       "      <td>7.4</td>\n",
       "    </tr>\n",
       "    <tr>\n",
       "      <th>2</th>\n",
       "      <td>The Super Mario Bros. Movie</td>\n",
       "      <td>7.1</td>\n",
       "    </tr>\n",
       "    <tr>\n",
       "      <th>4</th>\n",
       "      <td>Jujutsu Kaisen</td>\n",
       "      <td>8.5</td>\n",
       "    </tr>\n",
       "    <tr>\n",
       "      <th>6</th>\n",
       "      <td>Demon Slayer: Kimetsu no Yaiba</td>\n",
       "      <td>8.6</td>\n",
       "    </tr>\n",
       "    <tr>\n",
       "      <th>...</th>\n",
       "      <td>...</td>\n",
       "      <td>...</td>\n",
       "    </tr>\n",
       "    <tr>\n",
       "      <th>45709</th>\n",
       "      <td>Demon Slayer: Kimetsu no Yaiba</td>\n",
       "      <td>8.3</td>\n",
       "    </tr>\n",
       "    <tr>\n",
       "      <th>45710</th>\n",
       "      <td>Demon Slayer: Kimetsu no Yaiba</td>\n",
       "      <td>8.4</td>\n",
       "    </tr>\n",
       "    <tr>\n",
       "      <th>45711</th>\n",
       "      <td>Demon Slayer: Kimetsu no Yaiba</td>\n",
       "      <td>8.4</td>\n",
       "    </tr>\n",
       "    <tr>\n",
       "      <th>45712</th>\n",
       "      <td>Demon Slayer: Kimetsu no Yaiba</td>\n",
       "      <td>7.3</td>\n",
       "    </tr>\n",
       "    <tr>\n",
       "      <th>45713</th>\n",
       "      <td>Demon Slayer: Kimetsu no Yaiba</td>\n",
       "      <td>7.9</td>\n",
       "    </tr>\n",
       "  </tbody>\n",
       "</table>\n",
       "<p>15655 rows × 2 columns</p>\n",
       "</div>"
      ],
      "text/plain": [
       "                                             Title  User Rating\n",
       "0                                        One Piece          8.9\n",
       "1      Teenage Mutant Ninja Turtles: Mutant Mayhem          7.4\n",
       "2                      The Super Mario Bros. Movie          7.1\n",
       "4                                   Jujutsu Kaisen          8.5\n",
       "6                   Demon Slayer: Kimetsu no Yaiba          8.6\n",
       "...                                            ...          ...\n",
       "45709               Demon Slayer: Kimetsu no Yaiba          8.3\n",
       "45710               Demon Slayer: Kimetsu no Yaiba          8.4\n",
       "45711               Demon Slayer: Kimetsu no Yaiba          8.4\n",
       "45712               Demon Slayer: Kimetsu no Yaiba          7.3\n",
       "45713               Demon Slayer: Kimetsu no Yaiba          7.9\n",
       "\n",
       "[15655 rows x 2 columns]"
      ]
     },
     "execution_count": 12,
     "metadata": {},
     "output_type": "execute_result"
    }
   ],
   "source": [
    "data.loc[(data['User Rating']>=7.0) & (data['User Rating']<=9.0),['Title','User Rating']]"
   ]
  },
  {
   "cell_type": "code",
   "execution_count": 13,
   "id": "57e80462",
   "metadata": {},
   "outputs": [
    {
     "data": {
      "text/html": [
       "<div>\n",
       "<style scoped>\n",
       "    .dataframe tbody tr th:only-of-type {\n",
       "        vertical-align: middle;\n",
       "    }\n",
       "\n",
       "    .dataframe tbody tr th {\n",
       "        vertical-align: top;\n",
       "    }\n",
       "\n",
       "    .dataframe thead th {\n",
       "        text-align: right;\n",
       "    }\n",
       "</style>\n",
       "<table border=\"1\" class=\"dataframe\">\n",
       "  <thead>\n",
       "    <tr style=\"text-align: right;\">\n",
       "      <th></th>\n",
       "      <th>0</th>\n",
       "    </tr>\n",
       "  </thead>\n",
       "  <tbody>\n",
       "    <tr>\n",
       "      <th>0</th>\n",
       "      <td>One Piece</td>\n",
       "    </tr>\n",
       "    <tr>\n",
       "      <th>1</th>\n",
       "      <td>Teenage Mutant Ninja Turtles: Mutant Mayhem</td>\n",
       "    </tr>\n",
       "    <tr>\n",
       "      <th>2</th>\n",
       "      <td>The Super Mario Bros. Movie</td>\n",
       "    </tr>\n",
       "    <tr>\n",
       "      <th>3</th>\n",
       "      <td>Jujutsu Kaisen</td>\n",
       "    </tr>\n",
       "    <tr>\n",
       "      <th>4</th>\n",
       "      <td>Demon Slayer: Kimetsu no Yaiba</td>\n",
       "    </tr>\n",
       "    <tr>\n",
       "      <th>...</th>\n",
       "      <td>...</td>\n",
       "    </tr>\n",
       "    <tr>\n",
       "      <th>3106</th>\n",
       "      <td>Release the Spyce</td>\n",
       "    </tr>\n",
       "    <tr>\n",
       "      <th>3107</th>\n",
       "      <td>Knights of the Zodiac: Saint Seiya</td>\n",
       "    </tr>\n",
       "    <tr>\n",
       "      <th>3108</th>\n",
       "      <td>Blade Runner: Black Lotus</td>\n",
       "    </tr>\n",
       "    <tr>\n",
       "      <th>3109</th>\n",
       "      <td>Hero Mask</td>\n",
       "    </tr>\n",
       "    <tr>\n",
       "      <th>3110</th>\n",
       "      <td>Juuni Taisen</td>\n",
       "    </tr>\n",
       "  </tbody>\n",
       "</table>\n",
       "<p>3111 rows × 1 columns</p>\n",
       "</div>"
      ],
      "text/plain": [
       "                                                0\n",
       "0                                       One Piece\n",
       "1     Teenage Mutant Ninja Turtles: Mutant Mayhem\n",
       "2                     The Super Mario Bros. Movie\n",
       "3                                  Jujutsu Kaisen\n",
       "4                  Demon Slayer: Kimetsu no Yaiba\n",
       "...                                           ...\n",
       "3106                            Release the Spyce\n",
       "3107           Knights of the Zodiac: Saint Seiya\n",
       "3108                    Blade Runner: Black Lotus\n",
       "3109                                    Hero Mask\n",
       "3110                                 Juuni Taisen\n",
       "\n",
       "[3111 rows x 1 columns]"
      ]
     },
     "execution_count": 13,
     "metadata": {},
     "output_type": "execute_result"
    }
   ],
   "source": [
    "# finding unique anime having the rating b/w 7.0 & 9.0\n",
    "pd.DataFrame(data.loc[(data['User Rating']>=7.0) & (data['User Rating']<=9.0),'Title'].unique())"
   ]
  },
  {
   "cell_type": "markdown",
   "id": "ebce7b3f",
   "metadata": {},
   "source": [
    "### 4.Which anime has the highest and lowest runtime?"
   ]
  },
  {
   "cell_type": "code",
   "execution_count": 14,
   "id": "f32dce80",
   "metadata": {},
   "outputs": [],
   "source": [
    "data['Runtime'].replace({'Runtime':0.0},inplace=True)"
   ]
  },
  {
   "cell_type": "code",
   "execution_count": 15,
   "id": "3a70c10c",
   "metadata": {},
   "outputs": [],
   "source": [
    "data[\"Runtime\"]=data[\"Runtime\"].str.replace(\",\",\"\")\n",
    "data['Runtime']=data['Runtime'].str.replace('min','')"
   ]
  },
  {
   "cell_type": "code",
   "execution_count": 16,
   "id": "6b2e9132",
   "metadata": {},
   "outputs": [],
   "source": [
    "data[\"Runtime\"]=data[\"Runtime\"].astype(float)"
   ]
  },
  {
   "cell_type": "code",
   "execution_count": 17,
   "id": "a75926c4",
   "metadata": {},
   "outputs": [
    {
     "data": {
      "text/html": [
       "<div>\n",
       "<style scoped>\n",
       "    .dataframe tbody tr th:only-of-type {\n",
       "        vertical-align: middle;\n",
       "    }\n",
       "\n",
       "    .dataframe tbody tr th {\n",
       "        vertical-align: top;\n",
       "    }\n",
       "\n",
       "    .dataframe thead th {\n",
       "        text-align: right;\n",
       "    }\n",
       "</style>\n",
       "<table border=\"1\" class=\"dataframe\">\n",
       "  <thead>\n",
       "    <tr style=\"text-align: right;\">\n",
       "      <th></th>\n",
       "      <th>Title</th>\n",
       "      <th>Runtime</th>\n",
       "    </tr>\n",
       "  </thead>\n",
       "  <tbody>\n",
       "    <tr>\n",
       "      <th>2798</th>\n",
       "      <td>The Wonderful Wizard of Oz</td>\n",
       "      <td>1271.0</td>\n",
       "    </tr>\n",
       "  </tbody>\n",
       "</table>\n",
       "</div>"
      ],
      "text/plain": [
       "                           Title  Runtime\n",
       "2798  The Wonderful Wizard of Oz   1271.0"
      ]
     },
     "execution_count": 17,
     "metadata": {},
     "output_type": "execute_result"
    }
   ],
   "source": [
    "pd.DataFrame(data.loc[data['Runtime']==data['Runtime'].max(),['Title','Runtime']])\n"
   ]
  },
  {
   "cell_type": "code",
   "execution_count": 18,
   "id": "1133c61c",
   "metadata": {},
   "outputs": [
    {
     "data": {
      "text/html": [
       "<div>\n",
       "<style scoped>\n",
       "    .dataframe tbody tr th:only-of-type {\n",
       "        vertical-align: middle;\n",
       "    }\n",
       "\n",
       "    .dataframe tbody tr th {\n",
       "        vertical-align: top;\n",
       "    }\n",
       "\n",
       "    .dataframe thead th {\n",
       "        text-align: right;\n",
       "    }\n",
       "</style>\n",
       "<table border=\"1\" class=\"dataframe\">\n",
       "  <thead>\n",
       "    <tr style=\"text-align: right;\">\n",
       "      <th></th>\n",
       "      <th>Title</th>\n",
       "      <th>Runtime</th>\n",
       "    </tr>\n",
       "  </thead>\n",
       "  <tbody>\n",
       "    <tr>\n",
       "      <th>2809</th>\n",
       "      <td>Ani*Kuri15</td>\n",
       "      <td>1.0</td>\n",
       "    </tr>\n",
       "    <tr>\n",
       "      <th>3588</th>\n",
       "      <td>Henkei Shoujo</td>\n",
       "      <td>1.0</td>\n",
       "    </tr>\n",
       "    <tr>\n",
       "      <th>3708</th>\n",
       "      <td>Gloomy the Naughty Grizzly</td>\n",
       "      <td>1.0</td>\n",
       "    </tr>\n",
       "    <tr>\n",
       "      <th>4548</th>\n",
       "      <td>Usavich</td>\n",
       "      <td>1.0</td>\n",
       "    </tr>\n",
       "    <tr>\n",
       "      <th>4792</th>\n",
       "      <td>Tokino Kousa</td>\n",
       "      <td>1.0</td>\n",
       "    </tr>\n",
       "    <tr>\n",
       "      <th>...</th>\n",
       "      <td>...</td>\n",
       "      <td>...</td>\n",
       "    </tr>\n",
       "    <tr>\n",
       "      <th>23772</th>\n",
       "      <td>Gloomy the Naughty Grizzly</td>\n",
       "      <td>1.0</td>\n",
       "    </tr>\n",
       "    <tr>\n",
       "      <th>23773</th>\n",
       "      <td>Gloomy the Naughty Grizzly</td>\n",
       "      <td>1.0</td>\n",
       "    </tr>\n",
       "    <tr>\n",
       "      <th>23774</th>\n",
       "      <td>Gloomy the Naughty Grizzly</td>\n",
       "      <td>1.0</td>\n",
       "    </tr>\n",
       "    <tr>\n",
       "      <th>23775</th>\n",
       "      <td>Gloomy the Naughty Grizzly</td>\n",
       "      <td>1.0</td>\n",
       "    </tr>\n",
       "    <tr>\n",
       "      <th>33433</th>\n",
       "      <td>Ani*Kuri15</td>\n",
       "      <td>1.0</td>\n",
       "    </tr>\n",
       "  </tbody>\n",
       "</table>\n",
       "<p>149 rows × 2 columns</p>\n",
       "</div>"
      ],
      "text/plain": [
       "                            Title  Runtime\n",
       "2809                   Ani*Kuri15      1.0\n",
       "3588                Henkei Shoujo      1.0\n",
       "3708   Gloomy the Naughty Grizzly      1.0\n",
       "4548                      Usavich      1.0\n",
       "4792                 Tokino Kousa      1.0\n",
       "...                           ...      ...\n",
       "23772  Gloomy the Naughty Grizzly      1.0\n",
       "23773  Gloomy the Naughty Grizzly      1.0\n",
       "23774  Gloomy the Naughty Grizzly      1.0\n",
       "23775  Gloomy the Naughty Grizzly      1.0\n",
       "33433                  Ani*Kuri15      1.0\n",
       "\n",
       "[149 rows x 2 columns]"
      ]
     },
     "execution_count": 18,
     "metadata": {},
     "output_type": "execute_result"
    }
   ],
   "source": [
    "pd.DataFrame(data.loc[data['Runtime']==data['Runtime'].min(),['Title','Runtime']])"
   ]
  },
  {
   "cell_type": "markdown",
   "id": "12a2fbd2",
   "metadata": {},
   "source": [
    "### 5. What is the runtime difference between one Piece and the super mario bros movie"
   ]
  },
  {
   "cell_type": "code",
   "execution_count": 19,
   "id": "3cebd585",
   "metadata": {},
   "outputs": [
    {
     "name": "stdout",
     "output_type": "stream",
     "text": [
      "Run time difference is : 68\n"
     ]
    }
   ],
   "source": [
    "a=data[data['Title']=='One Piece']['Runtime'].values[0]\n",
    "b=data[data['Title']=='The Super Mario Bros. Movie']['Runtime'].values[0]\n",
    "print('Run time difference is :',int(abs(a-b)))"
   ]
  },
  {
   "cell_type": "markdown",
   "id": "cda64098",
   "metadata": {},
   "source": [
    "### 6. Which is the oldest anime?\n"
   ]
  },
  {
   "cell_type": "code",
   "execution_count": 20,
   "id": "d2b1a7b1",
   "metadata": {},
   "outputs": [],
   "source": [
    "data[\"Year\"]=data[\"Year\"].str.replace(\"(\",\"\",regex=False)\n",
    "data['Year']=data['Year'].str.replace(')','',regex=False)\n",
    "data['Year']=data['Year'].str.replace('-','',regex=False)"
   ]
  },
  {
   "cell_type": "code",
   "execution_count": 21,
   "id": "61f9cbca",
   "metadata": {},
   "outputs": [],
   "source": [
    "data['Year'] = data['Year'].str.extract('(\\d+)').astype(float)"
   ]
  },
  {
   "cell_type": "code",
   "execution_count": 22,
   "id": "8d4c8cc1",
   "metadata": {},
   "outputs": [
    {
     "data": {
      "text/html": [
       "<div>\n",
       "<style scoped>\n",
       "    .dataframe tbody tr th:only-of-type {\n",
       "        vertical-align: middle;\n",
       "    }\n",
       "\n",
       "    .dataframe tbody tr th {\n",
       "        vertical-align: top;\n",
       "    }\n",
       "\n",
       "    .dataframe thead th {\n",
       "        text-align: right;\n",
       "    }\n",
       "</style>\n",
       "<table border=\"1\" class=\"dataframe\">\n",
       "  <thead>\n",
       "    <tr style=\"text-align: right;\">\n",
       "      <th></th>\n",
       "      <th>Title</th>\n",
       "      <th>Genre</th>\n",
       "      <th>User Rating</th>\n",
       "      <th>Number of Votes</th>\n",
       "      <th>Runtime</th>\n",
       "      <th>Year</th>\n",
       "      <th>Summary</th>\n",
       "      <th>Stars</th>\n",
       "      <th>Certificate</th>\n",
       "      <th>Metascore</th>\n",
       "      <th>Gross</th>\n",
       "      <th>Episode</th>\n",
       "      <th>Episode Title</th>\n",
       "    </tr>\n",
       "  </thead>\n",
       "  <tbody>\n",
       "    <tr>\n",
       "      <th>4954</th>\n",
       "      <td>Matsumoto Fragment</td>\n",
       "      <td>Animation, Short</td>\n",
       "      <td>5.4</td>\n",
       "      <td>352</td>\n",
       "      <td>1.0</td>\n",
       "      <td>1907.0</td>\n",
       "      <td>A boy writes on a board, then tips his hat to ...</td>\n",
       "      <td>no stars</td>\n",
       "      <td>no certificate</td>\n",
       "      <td>0</td>\n",
       "      <td>352</td>\n",
       "      <td>0</td>\n",
       "      <td>no</td>\n",
       "    </tr>\n",
       "  </tbody>\n",
       "</table>\n",
       "</div>"
      ],
      "text/plain": [
       "                   Title             Genre  User Rating Number of Votes  \\\n",
       "4954  Matsumoto Fragment  Animation, Short          5.4             352   \n",
       "\n",
       "      Runtime    Year                                            Summary  \\\n",
       "4954      1.0  1907.0  A boy writes on a board, then tips his hat to ...   \n",
       "\n",
       "         Stars     Certificate  Metascore  Gross  Episode Episode Title  \n",
       "4954  no stars  no certificate          0    352        0            no  "
      ]
     },
     "execution_count": 22,
     "metadata": {},
     "output_type": "execute_result"
    }
   ],
   "source": [
    "data[data['Year']==data['Year'].min()]"
   ]
  },
  {
   "cell_type": "markdown",
   "id": "dc244765",
   "metadata": {},
   "source": [
    "### 7.List all the anime that were released in the year 2023"
   ]
  },
  {
   "cell_type": "code",
   "execution_count": 23,
   "id": "5d2f381b",
   "metadata": {},
   "outputs": [
    {
     "name": "stdout",
     "output_type": "stream",
     "text": [
      "<class 'pandas.core.frame.DataFrame'>\n",
      "RangeIndex: 45717 entries, 0 to 45716\n",
      "Data columns (total 13 columns):\n",
      " #   Column           Non-Null Count  Dtype  \n",
      "---  ------           --------------  -----  \n",
      " 0   Title            45717 non-null  object \n",
      " 1   Genre            45717 non-null  object \n",
      " 2   User Rating      45717 non-null  float64\n",
      " 3   Number of Votes  45717 non-null  object \n",
      " 4   Runtime          32549 non-null  float64\n",
      " 5   Year             45571 non-null  float64\n",
      " 6   Summary          45717 non-null  object \n",
      " 7   Stars            45717 non-null  object \n",
      " 8   Certificate      45717 non-null  object \n",
      " 9   Metascore        45717 non-null  int32  \n",
      " 10  Gross            45717 non-null  int32  \n",
      " 11  Episode          45717 non-null  int32  \n",
      " 12  Episode Title    45717 non-null  object \n",
      "dtypes: float64(3), int32(3), object(7)\n",
      "memory usage: 4.0+ MB\n"
     ]
    }
   ],
   "source": [
    "data.info()"
   ]
  },
  {
   "cell_type": "code",
   "execution_count": 24,
   "id": "52e3ec2c",
   "metadata": {},
   "outputs": [
    {
     "data": {
      "text/html": [
       "<div>\n",
       "<style scoped>\n",
       "    .dataframe tbody tr th:only-of-type {\n",
       "        vertical-align: middle;\n",
       "    }\n",
       "\n",
       "    .dataframe tbody tr th {\n",
       "        vertical-align: top;\n",
       "    }\n",
       "\n",
       "    .dataframe thead th {\n",
       "        text-align: right;\n",
       "    }\n",
       "</style>\n",
       "<table border=\"1\" class=\"dataframe\">\n",
       "  <thead>\n",
       "    <tr style=\"text-align: right;\">\n",
       "      <th></th>\n",
       "      <th>Title</th>\n",
       "    </tr>\n",
       "  </thead>\n",
       "  <tbody>\n",
       "    <tr>\n",
       "      <th>1</th>\n",
       "      <td>Teenage Mutant Ninja Turtles: Mutant Mayhem</td>\n",
       "    </tr>\n",
       "    <tr>\n",
       "      <th>2</th>\n",
       "      <td>The Super Mario Bros. Movie</td>\n",
       "    </tr>\n",
       "    <tr>\n",
       "      <th>13</th>\n",
       "      <td>The Boy and the Heron</td>\n",
       "    </tr>\n",
       "    <tr>\n",
       "      <th>18</th>\n",
       "      <td>Zom 100: Bucket List of the Dead</td>\n",
       "    </tr>\n",
       "    <tr>\n",
       "      <th>21</th>\n",
       "      <td>Ruby Gillman, Teenage Kraken</td>\n",
       "    </tr>\n",
       "    <tr>\n",
       "      <th>...</th>\n",
       "      <td>...</td>\n",
       "    </tr>\n",
       "    <tr>\n",
       "      <th>32965</th>\n",
       "      <td>Beyblade Burst QuadStrike</td>\n",
       "    </tr>\n",
       "    <tr>\n",
       "      <th>32966</th>\n",
       "      <td>Beyblade Burst QuadStrike</td>\n",
       "    </tr>\n",
       "    <tr>\n",
       "      <th>32967</th>\n",
       "      <td>Beyblade Burst QuadStrike</td>\n",
       "    </tr>\n",
       "    <tr>\n",
       "      <th>32968</th>\n",
       "      <td>Beyblade Burst QuadStrike</td>\n",
       "    </tr>\n",
       "    <tr>\n",
       "      <th>32969</th>\n",
       "      <td>Beyblade Burst QuadStrike</td>\n",
       "    </tr>\n",
       "  </tbody>\n",
       "</table>\n",
       "<p>395 rows × 1 columns</p>\n",
       "</div>"
      ],
      "text/plain": [
       "                                             Title\n",
       "1      Teenage Mutant Ninja Turtles: Mutant Mayhem\n",
       "2                      The Super Mario Bros. Movie\n",
       "13                           The Boy and the Heron\n",
       "18                Zom 100: Bucket List of the Dead\n",
       "21                    Ruby Gillman, Teenage Kraken\n",
       "...                                            ...\n",
       "32965                    Beyblade Burst QuadStrike\n",
       "32966                    Beyblade Burst QuadStrike\n",
       "32967                    Beyblade Burst QuadStrike\n",
       "32968                    Beyblade Burst QuadStrike\n",
       "32969                    Beyblade Burst QuadStrike\n",
       "\n",
       "[395 rows x 1 columns]"
      ]
     },
     "execution_count": 24,
     "metadata": {},
     "output_type": "execute_result"
    }
   ],
   "source": [
    "pd.DataFrame(data[data['Year']==2023]['Title'])"
   ]
  },
  {
   "cell_type": "markdown",
   "id": "5448ba90",
   "metadata": {},
   "source": [
    "### 8.What is the average user rating of the anime which belong to the action genre?"
   ]
  },
  {
   "cell_type": "code",
   "execution_count": null,
   "id": "c3e1d3a4",
   "metadata": {},
   "outputs": [],
   "source": []
  },
  {
   "cell_type": "markdown",
   "id": "eda4e1b6",
   "metadata": {},
   "source": [
    "### 9. Which anime has the lowest gross price?"
   ]
  },
  {
   "cell_type": "code",
   "execution_count": 25,
   "id": "87ffe00b",
   "metadata": {},
   "outputs": [],
   "source": [
    "data['Gross'].fillna(0, inplace=True)\n",
    "data['Gross'].replace({'Gross': 0}, inplace=True)\n",
    "data['Gross'] = data['Gross'].astype(np.int64)"
   ]
  },
  {
   "cell_type": "code",
   "execution_count": 26,
   "id": "d6446b7a",
   "metadata": {},
   "outputs": [
    {
     "data": {
      "text/html": [
       "<div>\n",
       "<style scoped>\n",
       "    .dataframe tbody tr th:only-of-type {\n",
       "        vertical-align: middle;\n",
       "    }\n",
       "\n",
       "    .dataframe tbody tr th {\n",
       "        vertical-align: top;\n",
       "    }\n",
       "\n",
       "    .dataframe thead th {\n",
       "        text-align: right;\n",
       "    }\n",
       "</style>\n",
       "<table border=\"1\" class=\"dataframe\">\n",
       "  <thead>\n",
       "    <tr style=\"text-align: right;\">\n",
       "      <th></th>\n",
       "      <th>Title</th>\n",
       "      <th>Gross</th>\n",
       "    </tr>\n",
       "  </thead>\n",
       "  <tbody>\n",
       "    <tr>\n",
       "      <th>3233</th>\n",
       "      <td>Show Time!</td>\n",
       "      <td>5</td>\n",
       "    </tr>\n",
       "    <tr>\n",
       "      <th>5620</th>\n",
       "      <td>The Peasant Noble</td>\n",
       "      <td>5</td>\n",
       "    </tr>\n",
       "    <tr>\n",
       "      <th>5714</th>\n",
       "      <td>Meitantei Conan Magic File 4: Osaka okonomiyak...</td>\n",
       "      <td>5</td>\n",
       "    </tr>\n",
       "    <tr>\n",
       "      <th>6142</th>\n",
       "      <td>Fist of the North Star Legennd of Heroes - Spe...</td>\n",
       "      <td>5</td>\n",
       "    </tr>\n",
       "    <tr>\n",
       "      <th>6236</th>\n",
       "      <td>Shakotan Boogie</td>\n",
       "      <td>5</td>\n",
       "    </tr>\n",
       "    <tr>\n",
       "      <th>...</th>\n",
       "      <td>...</td>\n",
       "      <td>...</td>\n",
       "    </tr>\n",
       "    <tr>\n",
       "      <th>45600</th>\n",
       "      <td>Girl Beats Boys</td>\n",
       "      <td>5</td>\n",
       "    </tr>\n",
       "    <tr>\n",
       "      <th>45601</th>\n",
       "      <td>Girl Beats Boys</td>\n",
       "      <td>5</td>\n",
       "    </tr>\n",
       "    <tr>\n",
       "      <th>45602</th>\n",
       "      <td>Girl Beats Boys</td>\n",
       "      <td>5</td>\n",
       "    </tr>\n",
       "    <tr>\n",
       "      <th>45606</th>\n",
       "      <td>Girl Beats Boys</td>\n",
       "      <td>5</td>\n",
       "    </tr>\n",
       "    <tr>\n",
       "      <th>45608</th>\n",
       "      <td>Girl Beats Boys</td>\n",
       "      <td>5</td>\n",
       "    </tr>\n",
       "  </tbody>\n",
       "</table>\n",
       "<p>168 rows × 2 columns</p>\n",
       "</div>"
      ],
      "text/plain": [
       "                                                   Title  Gross\n",
       "3233                                          Show Time!      5\n",
       "5620                                   The Peasant Noble      5\n",
       "5714   Meitantei Conan Magic File 4: Osaka okonomiyak...      5\n",
       "6142   Fist of the North Star Legennd of Heroes - Spe...      5\n",
       "6236                                     Shakotan Boogie      5\n",
       "...                                                  ...    ...\n",
       "45600                                    Girl Beats Boys      5\n",
       "45601                                    Girl Beats Boys      5\n",
       "45602                                    Girl Beats Boys      5\n",
       "45606                                    Girl Beats Boys      5\n",
       "45608                                    Girl Beats Boys      5\n",
       "\n",
       "[168 rows x 2 columns]"
      ]
     },
     "execution_count": 26,
     "metadata": {},
     "output_type": "execute_result"
    }
   ],
   "source": [
    "data.loc[data['Gross']==data['Gross'].min(),['Title','Gross']]"
   ]
  },
  {
   "cell_type": "markdown",
   "id": "e9025eca",
   "metadata": {},
   "source": [
    "### 10. Which anime has the highest gross price?"
   ]
  },
  {
   "cell_type": "code",
   "execution_count": 27,
   "id": "7ede6f7b",
   "metadata": {},
   "outputs": [
    {
     "data": {
      "text/html": [
       "<div>\n",
       "<style scoped>\n",
       "    .dataframe tbody tr th:only-of-type {\n",
       "        vertical-align: middle;\n",
       "    }\n",
       "\n",
       "    .dataframe tbody tr th {\n",
       "        vertical-align: top;\n",
       "    }\n",
       "\n",
       "    .dataframe thead th {\n",
       "        text-align: right;\n",
       "    }\n",
       "</style>\n",
       "<table border=\"1\" class=\"dataframe\">\n",
       "  <thead>\n",
       "    <tr style=\"text-align: right;\">\n",
       "      <th></th>\n",
       "      <th>Title</th>\n",
       "      <th>Gross</th>\n",
       "    </tr>\n",
       "  </thead>\n",
       "  <tbody>\n",
       "    <tr>\n",
       "      <th>47</th>\n",
       "      <td>WALL·E</td>\n",
       "      <td>1162284</td>\n",
       "    </tr>\n",
       "    <tr>\n",
       "      <th>888</th>\n",
       "      <td>WALL·E</td>\n",
       "      <td>1162284</td>\n",
       "    </tr>\n",
       "  </tbody>\n",
       "</table>\n",
       "</div>"
      ],
      "text/plain": [
       "      Title    Gross\n",
       "47   WALL·E  1162284\n",
       "888  WALL·E  1162284"
      ]
     },
     "execution_count": 27,
     "metadata": {},
     "output_type": "execute_result"
    }
   ],
   "source": [
    "data.loc[data['Gross']==data['Gross'].max(),['Title','Gross']]"
   ]
  },
  {
   "cell_type": "markdown",
   "id": "b1b00c93",
   "metadata": {},
   "source": [
    "### 11.How many anime have the PG certification? "
   ]
  },
  {
   "cell_type": "code",
   "execution_count": 28,
   "id": "f3c83cf1",
   "metadata": {},
   "outputs": [],
   "source": [
    "gp=data.groupby([\"Certificate\"])"
   ]
  },
  {
   "cell_type": "code",
   "execution_count": 29,
   "id": "d9b371e8",
   "metadata": {},
   "outputs": [
    {
     "name": "stdout",
     "output_type": "stream",
     "text": [
      "Anime belongs to PG certificate : 425\n"
     ]
    }
   ],
   "source": [
    "print('Anime belongs to PG certificate :',len(gp.get_group('PG')))"
   ]
  },
  {
   "cell_type": "markdown",
   "id": "588d6ea5",
   "metadata": {},
   "source": [
    "### 12. What is the average number of votes in your dataset?"
   ]
  },
  {
   "cell_type": "code",
   "execution_count": 30,
   "id": "ff4b846a",
   "metadata": {},
   "outputs": [],
   "source": [
    "data[\"Number of Votes\"]=data[\"Number of Votes\"].str.replace(\",\",\"\")\n",
    "data['Number of Votes'].fillna(0, inplace=True)\n",
    "data['Number of Votes'].replace({'Number of Votes': 0}, inplace=True)\n",
    "data['Number of Votes'] = data['Number of Votes'].astype(float)"
   ]
  },
  {
   "cell_type": "code",
   "execution_count": 31,
   "id": "cf49d690",
   "metadata": {},
   "outputs": [
    {
     "name": "stdout",
     "output_type": "stream",
     "text": [
      "Average no of votes : 1632.1920510969662\n"
     ]
    }
   ],
   "source": [
    "print('Average no of votes :',data['Number of Votes'].mean())"
   ]
  },
  {
   "cell_type": "code",
   "execution_count": 32,
   "id": "e3c3ebb2",
   "metadata": {},
   "outputs": [
    {
     "data": {
      "text/plain": [
       "Index(['Title', 'Genre', 'User Rating', 'Number of Votes', 'Runtime', 'Year',\n",
       "       'Summary', 'Stars', 'Certificate', 'Metascore', 'Gross', 'Episode',\n",
       "       'Episode Title'],\n",
       "      dtype='object')"
      ]
     },
     "execution_count": 32,
     "metadata": {},
     "output_type": "execute_result"
    }
   ],
   "source": [
    "data.columns"
   ]
  },
  {
   "cell_type": "code",
   "execution_count": null,
   "id": "4f2572ea",
   "metadata": {},
   "outputs": [],
   "source": []
  }
 ],
 "metadata": {
  "kernelspec": {
   "display_name": "Python 3 (ipykernel)",
   "language": "python",
   "name": "python3"
  },
  "language_info": {
   "codemirror_mode": {
    "name": "ipython",
    "version": 3
   },
   "file_extension": ".py",
   "mimetype": "text/x-python",
   "name": "python",
   "nbconvert_exporter": "python",
   "pygments_lexer": "ipython3",
   "version": "3.10.9"
  }
 },
 "nbformat": 4,
 "nbformat_minor": 5
}
